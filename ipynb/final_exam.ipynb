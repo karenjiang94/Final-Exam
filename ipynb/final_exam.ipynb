{
 "cells": [
  {
   "cell_type": "markdown",
   "metadata": {},
   "source": [
    "### New AWS server\n",
    "\n",
    "The launch time for this new AWS server is Jan. 27, 2018."
   ]
  },
  {
   "cell_type": "markdown",
   "metadata": {},
   "source": [
    "![AWS Screenshot](https://i.imgur.com/M2H0vzB.png)"
   ]
  },
  {
   "cell_type": "code",
   "execution_count": 2,
   "metadata": {},
   "outputs": [
    {
     "name": "stdout",
     "output_type": "stream",
     "text": [
      "[1] \"USER       PID %CPU %MEM    VSZ   RSS TTY      STAT START   TIME COMMAND\"                                                                                                                                                  \n",
      "[2] \"jovyan       1  0.0  0.0   4364   432 ?        Ss   Jan28   0:01 tini -- start-notebook.sh\"                                                                                                                                \n",
      "[3] \"jovyan       5  0.0  5.5 357632 55872 ?        Sl   Jan28   0:10 /opt/conda/bin/python /opt/conda/bin/jupyter-notebook\"                                                                                                    \n",
      "[4] \"jovyan      70  0.0  5.5 322684 56152 ?        Ssl  01:15   0:00 /opt/conda/lib/R/bin/exec/R --slave -e IRkernel::main() --args /home/jovyan/.local/share/jupyter/runtime/kernel-afaa47b9-f477-44d6-9a01-4b2248356cef.json\"\n",
      "[5] \"jovyan      81  0.0  0.0   4504   812 ?        S    01:40   0:00 sh -c ps -aux\"                                                                                                                                            \n",
      "[6] \"jovyan      82  0.0  0.2  36084  3032 ?        R    01:40   0:00 ps -aux\"                                                                                                                                                  \n"
     ]
    }
   ],
   "source": [
    "print(system(\"ps -aux\", intern = TRUE))"
   ]
  },
  {
   "cell_type": "markdown",
   "metadata": {},
   "source": [
    "The system command tells us the \"ps\" processing status. The three option commands _-aux_ tell us the following: \n",
    "* _-a_ lists the process for all users\n",
    "* _-u_ tells ps to provide detailed information for each process\n",
    "* _-x_ adds to the list processes that have no controlling terminal\n",
    "\n",
    "It lists what commands (last column) have been run, with their start dates and times (GMT). To find how long our system has been running, we can subtract the first command time (`tini -- start-notebook`) from the most recent command (`ps -aux`). "
   ]
  },
  {
   "cell_type": "markdown",
   "metadata": {},
   "source": [
    "### Length & Magnitute\n",
    "\n",
    "For vector (2,5,3,6,2,7,4,5,6), the length $\\textit{n}$ of the vector is 9. \n",
    "\n",
    "The magnitude for a vector of length $\\textit{n}$ can be calculated using the following formula. \n",
    "$$ ||\\vec{v}|| =  \\sqrt{x_1^2 + ... + x_n^2} $$\n",
    "\n",
    "For our vector,\n",
    "\n",
    "$$ ||\\vec{v}|| = \\sqrt{2^2 + 5^2 + 3^2 + 6^2 + 2^2 + 7^2 + 4^2 + 5^2 + 6^2} $$\n",
    "\n",
    "$$ ||\\vec{v}|| = \\sqrt{4 + 25 + 9 + 36 + 4 + 49 + 16 + 25 + 36} $$\n",
    "\n",
    "$$ ||\\vec{v}|| = \\sqrt{204} = 14.28 $$"
   ]
  },
  {
   "cell_type": "code",
   "execution_count": 13,
   "metadata": {},
   "outputs": [
    {
     "data": {
      "text/html": [
       "9"
      ],
      "text/latex": [
       "9"
      ],
      "text/markdown": [
       "9"
      ],
      "text/plain": [
       "[1] 9"
      ]
     },
     "metadata": {},
     "output_type": "display_data"
    },
    {
     "data": {
      "text/html": [
       "14.2828568570857"
      ],
      "text/latex": [
       "14.2828568570857"
      ],
      "text/markdown": [
       "14.2828568570857"
      ],
      "text/plain": [
       "[1] 14.28286"
      ]
     },
     "metadata": {},
     "output_type": "display_data"
    },
    {
     "data": {
      "text/html": [
       "14.2828568570857"
      ],
      "text/latex": [
       "14.2828568570857"
      ],
      "text/markdown": [
       "14.2828568570857"
      ],
      "text/plain": [
       "[1] 14.28286"
      ]
     },
     "metadata": {},
     "output_type": "display_data"
    }
   ],
   "source": [
    "v <- c(2,5,3,6,2,7,4,5,6)\n",
    "length(v)\n",
    "norm(v, type=\"2\") #applying norm function\n",
    "sqrt(sum(v^2)) #applying equation"
   ]
  },
  {
   "cell_type": "markdown",
   "metadata": {},
   "source": [
    "### Inverting the Problem\n",
    "\n",
    "The line through $(3,4)$ and $(-1,2)$ is $y = 0.5x + 2.5 $.\n",
    "\n",
    "Using the equation, $ \\beta_0 + x\\beta_1 = y$,\n",
    "* where $\\beta_0$ is the y intercept, \n",
    "* and $\\beta_1$ is the slope, \n",
    "\n",
    "we can substitute the points at $(x,y)$, to form a system of equations.\n",
    "\n",
    "$$ \\beta_0 + 3\\beta_1 = 4 $$\n",
    "$$ \\beta_0 - 1\\beta_1 = 2 $$\n",
    "\n",
    "We can rewrite this as matrix multiplication\n",
    "\n",
    "$$ \\left[\\begin{matrix} 1 & 3 \\\\ 1 & -1\\end{matrix}\\right] \\left[\\begin{matrix} \\beta_0 \\\\ \\beta_1 \\end{matrix}\\right] = \\left[\\begin{matrix} 4 \\\\ 2 \\end{matrix}\\right]$$\n",
    "\n",
    "$$ A * x = b $$\n",
    "\n",
    "\n",
    "We can call the `solve()` function to compute $ \\beta_0$ and $ \\beta_1 $."
   ]
  },
  {
   "cell_type": "code",
   "execution_count": 1,
   "metadata": {},
   "outputs": [
    {
     "data": {
      "text/html": [
       "<ol class=list-inline>\n",
       "\t<li>2.5</li>\n",
       "\t<li>0.5</li>\n",
       "</ol>\n"
      ],
      "text/latex": [
       "\\begin{enumerate*}\n",
       "\\item 2.5\n",
       "\\item 0.5\n",
       "\\end{enumerate*}\n"
      ],
      "text/markdown": [
       "1. 2.5\n",
       "2. 0.5\n",
       "\n",
       "\n"
      ],
      "text/plain": [
       "[1] 2.5 0.5"
      ]
     },
     "metadata": {},
     "output_type": "display_data"
    }
   ],
   "source": [
    "A <- matrix(c(1,1,3,-1), ncol = 2)\n",
    "b <- c(4,2)\n",
    "solve(A,b)"
   ]
  },
  {
   "cell_type": "markdown",
   "metadata": {},
   "source": [
    "The solve function returns $\\beta_0=2.5$ and $\\beta_1=0.5$, we can substitute those values back into the equation $y = \\beta_0 + x\\beta_1$, to confirm that $y = 2.5 + 0.5x$."
   ]
  },
  {
   "cell_type": "markdown",
   "metadata": {},
   "source": [
    "### Abalone Data Set Tree\n",
    "\n"
   ]
  },
  {
   "cell_type": "markdown",
   "metadata": {},
   "source": [
    "```\n",
    "ubuntu@ip-172-31-25-29:~/Final Exam$ tree\n",
    ".\n",
    "├── data\n",
    "│   ├── abalone.data\n",
    "│   └── abalone.names\n",
    "├── ipynb\n",
    "│   ├── abalone_data_description.ipynb\n",
    "│   └── final_exam.ipynb\n",
    "└── README.md\n",
    "\n",
    "```"
   ]
  },
  {
   "cell_type": "code",
   "execution_count": null,
   "metadata": {},
   "outputs": [],
   "source": []
  }
 ],
 "metadata": {
  "kernelspec": {
   "display_name": "R",
   "language": "R",
   "name": "ir"
  },
  "language_info": {
   "codemirror_mode": "r",
   "file_extension": ".r",
   "mimetype": "text/x-r-source",
   "name": "R",
   "pygments_lexer": "r",
   "version": "3.3.2"
  }
 },
 "nbformat": 4,
 "nbformat_minor": 2
}
